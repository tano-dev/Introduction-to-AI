{
 "cells": [
  {
   "cell_type": "markdown",
   "id": "a08d87b3",
   "metadata": {},
   "source": [
    "# Week 2"
   ]
  }
 ],
 "metadata": {
  "kernelspec": {
   "display_name": ".venv",
   "language": "python",
   "name": "python3"
  },
  "language_info": {
   "name": "python",
   "version": "3.14.0"
  }
 },
 "nbformat": 4,
 "nbformat_minor": 5
}
