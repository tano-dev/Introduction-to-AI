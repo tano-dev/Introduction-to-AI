{
 "cells": [
  {
   "cell_type": "markdown",
   "id": "7d11414a",
   "metadata": {},
   "source": [
    "# Week 1"
   ]
  },
  {
   "cell_type": "markdown",
   "id": "f0a52774",
   "metadata": {},
   "source": [
    "Note: comment at BFS, DFS and USC are the error"
   ]
  },
  {
   "cell_type": "markdown",
   "id": "9fd5f6e2",
   "metadata": {},
   "source": [
    "Data reading\n"
   ]
  },
  {
   "cell_type": "code",
   "execution_count": 17,
   "id": "100df1d3",
   "metadata": {},
   "outputs": [],
   "source": [
    "from collections import defaultdict\n",
    "from queue import Queue, PriorityQueue\n",
    "\n",
    "# read data from txt\n",
    "def read_txt(file):\n",
    "    size = int (file.readline())\n",
    "    start, goal = [int(num) for num in file.readline().split(' ')]\n",
    "    matrix = [[int(num) for num in line.split(' ')] for line in file]\n",
    "    return size, start, goal, matrix\n",
    "\n",
    "# Chuyển ma trận thành ma trận kề\n",
    "def convert_graph(a):\n",
    "    adjList = defaultdict(list)\n",
    "    for i in range(len(a)):\n",
    "        for j in range(len(a[i])):\n",
    "            if a[i][j]==1:\n",
    "                adjList[i].append(j)\n",
    "    return adjList\n",
    "def convert_graph_weight(a):\n",
    "    adjList = defaultdict(list)\n",
    "    for i in range(len(a)):\n",
    "        for j in range(len(a[i])):\n",
    "            if a[i][j]!=0:\n",
    "                adjList[i].append((j,a[i][j]))\n",
    "    return adjList"
   ]
  },
  {
   "cell_type": "markdown",
   "id": "f2a2c864",
   "metadata": {},
   "source": [
    "BFS Implementation"
   ]
  },
  {
   "cell_type": "code",
   "execution_count": 18,
   "id": "f8ae3dee",
   "metadata": {},
   "outputs": [],
   "source": [
    "def bfs(graph, start, end):\n",
    "    visited = []\n",
    "    frontier = Queue()\n",
    "\n",
    "    frontier.put(start)\n",
    "    visited.append(start)\n",
    "\n",
    "    parent = dict()\n",
    "    parent[start] = None\n",
    "    \n",
    "    path_found = False\n",
    "    \n",
    "    while True:\n",
    "        if frontier.empty():\n",
    "            raise Exception('No way Exception')\n",
    "        current_node = frontier.get()\n",
    "        # visited.append(current_node) -> Đã thêm khi thêm vào frontier\n",
    "         \n",
    "        if current_node == end:\n",
    "            path_found = True\n",
    "            break\n",
    "        \n",
    "        for node in graph[current_node]:\n",
    "            if node not in visited:\n",
    "                frontier.put(node)\n",
    "                parent[node] = current_node\n",
    "                visited.append(node)\n",
    "                \n",
    "    path = []\n",
    "    if path_found:\n",
    "        path.append(end)\n",
    "        while parent[end] is not None:\n",
    "            path.append(parent[end])\n",
    "            end = parent[end]\n",
    "        path.reverse()\n",
    "    return path"
   ]
  },
  {
   "cell_type": "markdown",
   "id": "6287b215",
   "metadata": {},
   "source": [
    "DFS Implementation"
   ]
  },
  {
   "cell_type": "code",
   "execution_count": 19,
   "id": "8ccdc309",
   "metadata": {},
   "outputs": [],
   "source": [
    "def dfs(graph, start, end):\n",
    "    visited = []\n",
    "    frontier = []\n",
    "\n",
    "    frontier.append(start)\n",
    "    visited.append(start)\n",
    "\n",
    "    parent = dict()\n",
    "    parent[start] = None\n",
    "\n",
    "    path_found = False\n",
    "\n",
    "    while True:\n",
    "        if frontier == []:\n",
    "            raise Exception(\"No way Exception\")\n",
    "        current_node = frontier.pop()\n",
    "        # visited.append(current_node) -> Đã thêm khi thêm vào frontier\n",
    "\n",
    "\n",
    "        if current_node == end:\n",
    "            path_found = True\n",
    "            break\n",
    "\n",
    "        for node in graph[current_node]:\n",
    "            if node not in visited:\n",
    "                frontier.append(node)\n",
    "                parent[node] = current_node\n",
    "                visited.append(node)\n",
    "\n",
    "\n",
    "    path = []\n",
    "    if path_found:\n",
    "        path.append(end)\n",
    "        while parent[end] is not None:\n",
    "            path.append(parent[end])\n",
    "            end = parent[end]\n",
    "    path.reverse()\n",
    "    return path"
   ]
  },
  {
   "cell_type": "markdown",
   "id": "61faac1e",
   "metadata": {},
   "source": [
    "UCS Implementation\n"
   ]
  },
  {
   "cell_type": "code",
   "execution_count": 20,
   "id": "60f57a84",
   "metadata": {},
   "outputs": [],
   "source": [
    "def ucs(graph, start, end):\n",
    "    visited = []\n",
    "    frontier = PriorityQueue()\n",
    "\n",
    "    # Thêm node start vào frontier và visited\n",
    "    frontier.put((0, start))\n",
    "    # visited.append(start) # dòng này bị dư\n",
    "\n",
    "    # Start không có node cha\n",
    "    parent = dict()\n",
    "    parent[start] = None\n",
    "    path_found = False\n",
    "\n",
    "    while True:\n",
    "        if frontier.empty():\n",
    "            raise Exception(\"No way Exception\")\n",
    "        current_w, current_node = frontier.get()\n",
    "        visited.append(current_node)\n",
    "\n",
    "        # Kiểm tra current_node có là end hay không\n",
    "        if current_node == end:\n",
    "            path_found = True\n",
    "            break\n",
    "\n",
    "        for nodei in graph[current_node]:\n",
    "            node, weight = nodei\n",
    "            if node not in visited:\n",
    "                frontier.put((current_w + weight, node))\n",
    "                parent[node] = current_node\n",
    "                visited.append(node)\n",
    "\n",
    "    # Xây dựng đường đi\n",
    "    path = []\n",
    "    if path_found:\n",
    "        path.append(end)\n",
    "        while parent[end] is not None:\n",
    "            path.append(parent[end])\n",
    "            end = parent[end]\n",
    "    path.reverse()\n",
    "    return current_w, path"
   ]
  },
  {
   "cell_type": "markdown",
   "id": "aa10b403",
   "metadata": {},
   "source": [
    "Output for BFS,DFS&UCS"
   ]
  },
  {
   "cell_type": "code",
   "execution_count": 21,
   "id": "f671fb58",
   "metadata": {},
   "outputs": [
    {
     "name": "stdout",
     "output_type": "stream",
     "text": [
      "Kết quả sử dụng thuật toán BFS: \n",
      " [0, 2, 7, 8, 10, 14, 15, 16, 17]\n",
      "Kết quả sử dụng thuật toán DFS: \n",
      " [0, 3, 4, 13, 10, 14, 15, 16, 17]\n",
      "Kết quả sử dụng thuật toán UCS: \n",
      " [0, 2, 7, 8, 10, 14, 15, 16, 17] với tổng chi phí là  6910\n"
     ]
    }
   ],
   "source": [
    "if __name__ == '__main__':\n",
    "    # Đọc file Input.txt và InputUSC.txt\n",
    "    file_1 = open(\"Input.txt\", \"r\")\n",
    "    file_2 = open(\"InputUCS.txt\", \"r\")\n",
    "    size_1, start_1, goal_1, matrix_1 = read_txt(file_1)\n",
    "    size_2, start_2, goal_2, matrix_2 = read_txt(file_2)\n",
    "    file_1.close()\n",
    "    file_2.close()\n",
    "    graph_1 = convert_graph(matrix_1)\n",
    "    graph_2 = convert_graph_weight(matrix_2)\n",
    "    \n",
    "    # Thực thi thuật toán BFS\n",
    "    result_bfs = bfs(graph_1, start_1, goal_1)\n",
    "    print('Kết quả sử dụng thuật toán BFS: \\n', result_bfs)\n",
    "    # DFS\n",
    "    result_dfs = dfs(graph_1, start_1, goal_1)\n",
    "    print('Kết quả sử dụng thuật toán DFS: \\n', result_dfs)\n",
    "    # USC\n",
    "    cost, result_ucs = ucs(graph_2, start_2, goal_2)\n",
    "    print('Kết quả sử dụng thuật toán UCS: \\n', result_ucs, 'với tổng chi phí là ', cost)"
   ]
  }
 ],
 "metadata": {
  "kernelspec": {
   "display_name": "Python 3",
   "language": "python",
   "name": "python3"
  },
  "language_info": {
   "codemirror_mode": {
    "name": "ipython",
    "version": 3
   },
   "file_extension": ".py",
   "mimetype": "text/x-python",
   "name": "python",
   "nbconvert_exporter": "python",
   "pygments_lexer": "ipython3",
   "version": "3.14.0"
  }
 },
 "nbformat": 4,
 "nbformat_minor": 5
}
